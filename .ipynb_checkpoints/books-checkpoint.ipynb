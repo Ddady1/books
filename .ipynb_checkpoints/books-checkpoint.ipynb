{
 "cells": [
  {
   "cell_type": "code",
   "execution_count": null,
   "id": "509b76b7-8542-439c-b76e-7aba83840baa",
   "metadata": {},
   "outputs": [],
   "source": []
  },
  {
   "cell_type": "code",
   "execution_count": 17,
   "id": "104a3648-7b26-465e-bf45-b5680da3a7f1",
   "metadata": {},
   "outputs": [
    {
     "name": "stdin",
     "output_type": "stream",
     "text": [
      "Please enter books name: בכחול\n"
     ]
    },
    {
     "name": "stdout",
     "output_type": "stream",
     "text": [
      "{'225460': ['88 ₪', 'ניסן בראונשטיין-בר', 'https://www.booknet.co.il/Images/Site/Products/org/57500007275.jpg', 'אזרח בכחול', 'אוריון'], '88715': ['149 ₪', 'שלו משה', 'https://www.booknet.co.il/Images/Site/Products/9600042687.jpg', 'פרשים בכחול לבן', 'בית עלים'], '140815': ['88 ₪', 'קלארק מרי היגינס', 'https://www.booknet.co.il/Images/Site/Products/3900065612.jpg', 'שתי ילדות קטנות בכחול', 'אור-עם'], '231061': ['78 ₪', 'בראונשטיין ניסן בר', 'https://www.booknet.co.il/images/site/book.jpg', 'אזרח בכחול', 'גוונים/טרקלין/חלונות']}\n"
     ]
    }
   ],
   "source": [
    "from selenium import webdriver\n",
    "from selenium.webdriver.common.by import By\n",
    "\n",
    "driver = webdriver.Chrome()\n",
    "#driver.get('https://www.booknet.co.il/')\n",
    "bookname = input('Please enter books name:')\n",
    "\n",
    "# צומת ספרים\n",
    "driver.get(f'https://www.booknet.co.il/%D7%97%D7%99%D7%A4%D7%95%D7%A9?q={bookname}')\n",
    "\n",
    "# סטימצקי\n",
    "#driver.get(f'https://www.steimatzky.co.il/catalogsearch/result/?q={bookname}')\n",
    "\n",
    "# בוקמי\n",
    "#driver.get(f'https://www.bookme.co.il/%D7%97%D7%99%D7%A4%D7%95%D7%A9?q={bookname}')\n",
    "\n",
    "# עברית\n",
    "#driver.get(f'https://www.e-vrit.co.il/Search/{bookname}')\n",
    "\n",
    "price = driver.find_element(By.TAG_NAME, 'ins').text\n",
    "prices = driver.find_elements(By.TAG_NAME, 'ins')\n",
    "#books = driver.find_elements(By.XPATH, '//span[@class=\"sr-only\"]')\n",
    "books = driver.find_elements(By.XPATH, '//div[@class=\"products product-cube col-md-2\"]')\n",
    "authors = driver.find_elements(By.XPATH, '//a[@class=\"book-below-title product-author\"]')\n",
    "images = driver.find_elements(By.XPATH, '//img[@class=\"img-responsive img-lazy-load\"]')\n",
    "books_image = []\n",
    "for image in images:\n",
    "    books_image.append(image.get_attribute(\"src\"))\n",
    "                       \n",
    "'''for book in books:\n",
    "    book_str = (book.text)\n",
    "    print(book_str)'''\n",
    "    \n",
    "books_dict = {}\n",
    "looper = 0\n",
    "for book in books:\n",
    "    #print(item.text)\n",
    "    book_details = []\n",
    "    bookid = book.get_attribute(\"data-prodid\")\n",
    "    book_name = book.get_attribute(\"data-fullname\")\n",
    "    book_publish = book.get_attribute(\"data-manufacturer\")\n",
    "    #book_details.append(bookid)\n",
    "    book_details.append(prices[looper].text)\n",
    "    book_details.append(authors[looper].text)\n",
    "    book_details.append(books_image[looper])\n",
    "    looper += 1\n",
    "    book_details.append(book_name)\n",
    "    book_details.append(book_publish)\n",
    "    books_dict[bookid] = book_details\n",
    "    #print(book_details)\n",
    "    #book_author = \n",
    "    \n",
    "print(books_dict)\n",
    "#ls\n",
    "#bookid[0].text\n",
    "#print(ext[1])\n",
    "#print(len(ext))\n"
   ]
  },
  {
   "cell_type": "code",
   "execution_count": null,
   "id": "12ab5710-ae56-47db-943a-839a6525ce82",
   "metadata": {},
   "outputs": [],
   "source": []
  },
  {
   "cell_type": "code",
   "execution_count": null,
   "id": "f77647a0-ae55-4165-bcf2-b05b4202cde0",
   "metadata": {},
   "outputs": [],
   "source": []
  }
 ],
 "metadata": {
  "kernelspec": {
   "display_name": "Python 3 (ipykernel)",
   "language": "python",
   "name": "python3"
  },
  "language_info": {
   "codemirror_mode": {
    "name": "ipython",
    "version": 3
   },
   "file_extension": ".py",
   "mimetype": "text/x-python",
   "name": "python",
   "nbconvert_exporter": "python",
   "pygments_lexer": "ipython3",
   "version": "3.10.2"
  }
 },
 "nbformat": 4,
 "nbformat_minor": 5
}
