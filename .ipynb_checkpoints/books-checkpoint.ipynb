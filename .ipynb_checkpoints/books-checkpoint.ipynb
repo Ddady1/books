{
 "cells": [
  {
   "cell_type": "code",
   "execution_count": 1,
   "id": "aec4423c-0085-42a7-aa72-fdf3ca162dd1",
   "metadata": {},
   "outputs": [],
   "source": [
    "from selenium import webdriver\n",
    "from selenium.webdriver.common.by import By"
   ]
  },
  {
   "cell_type": "code",
   "execution_count": 3,
   "id": "104a3648-7b26-465e-bf45-b5680da3a7f1",
   "metadata": {},
   "outputs": [
    {
     "name": "stdin",
     "output_type": "stream",
     "text": [
      "Please enter books name: בכחול\n"
     ]
    },
    {
     "name": "stdout",
     "output_type": "stream",
     "text": [
      "Books from צומת ספרים \n",
      " {'225460': ['88 ₪', 'ניסן בראונשטיין-בר', 'https://www.booknet.co.il/Images/Site/Products/org/57500007275.jpg', 'אזרח בכחול', 'אוריון'], '88715': ['149 ₪', 'שלו משה', 'https://www.booknet.co.il/Images/Site/Products/9600042687.jpg', 'פרשים בכחול לבן', 'בית עלים'], '140815': ['88 ₪', 'קלארק מרי היגינס', 'https://www.booknet.co.il/Images/Site/Products/3900065612.jpg', 'שתי ילדות קטנות בכחול', 'אור-עם'], '231061': ['78 ₪', 'בראונשטיין ניסן בר', 'https://www.booknet.co.il/images/site/book.jpg', 'אזרח בכחול', 'גוונים/טרקלין/חלונות']}\n"
     ]
    }
   ],
   "source": [
    "\n",
    "\n",
    "def tzomet(driver):\n",
    "    # צומת ספרים\n",
    "    driver.get(f'https://www.booknet.co.il/%D7%97%D7%99%D7%A4%D7%95%D7%A9?q={bookname}')\n",
    "    prices = driver.find_elements(By.TAG_NAME, 'ins')\n",
    "    books = driver.find_elements(By.XPATH, '//div[@class=\"products product-cube col-md-2\"]')\n",
    "    authors = driver.find_elements(By.XPATH, '//a[@class=\"book-below-title product-author\"]')\n",
    "    images = driver.find_elements(By.XPATH, '//img[@class=\"img-responsive img-lazy-load\"]')\n",
    "    books_image = []\n",
    "    for image in images:\n",
    "        books_image.append(image.get_attribute(\"src\"))\n",
    "\n",
    "    books_dict = {}\n",
    "    looper = 0\n",
    "    for book in books:\n",
    "        # print(item.text)\n",
    "        book_details = []\n",
    "        bookid = book.get_attribute(\"data-prodid\")\n",
    "        book_name = book.get_attribute(\"data-fullname\")\n",
    "        book_publish = book.get_attribute(\"data-manufacturer\")\n",
    "        book_details.append(prices[looper].text)\n",
    "        book_details.append(authors[looper].text)\n",
    "        book_details.append(books_image[looper])\n",
    "        looper += 1\n",
    "        book_details.append(book_name)\n",
    "        book_details.append(book_publish)\n",
    "        books_dict[bookid] = book_details\n",
    "        # print(book_details)\n",
    "\n",
    "    return books_dict\n",
    "\n",
    "\n",
    "driver = webdriver.Chrome()\n",
    "# driver.get('https://www.booknet.co.il/')\n",
    "bookname = input('Please enter books name:')\n",
    "\n",
    "\n",
    "print('Books from צומת ספרים \\n', tzomet(driver))\n",
    "\n",
    "\n",
    "\n",
    "\n",
    "\n",
    "# בוקמי\n",
    "# driver.get(f'https://www.bookme.co.il/%D7%97%D7%99%D7%A4%D7%95%D7%A9?q={bookname}')\n",
    "\n",
    "# עברית\n",
    "# driver.get(f'https://www.e-vrit.co.il/Search/{bookname}')\n"
   ]
  },
  {
   "cell_type": "code",
   "execution_count": 21,
   "id": "12ab5710-ae56-47db-943a-839a6525ce82",
   "metadata": {},
   "outputs": [
    {
     "name": "stdin",
     "output_type": "stream",
     "text": [
      "Please enter books name: בכחול\n"
     ]
    },
    {
     "name": "stdout",
     "output_type": "stream",
     "text": [
      "{'83858': ['עירום בכחול', 'אליזבת רוזנר', 'מודפס', 'מחיר מוצר', '79.20 ₪', 'מחיר רגיל', '88.00 ₪'], '55905': ['אזרח בכחול', 'ניסן בר בראונשטיין', 'דיגיטלי', '28 ש\"ח', 'מחיר מוצר', '28.00 ₪', 'מחיר רגיל', '44.00 ₪'], '24226': ['ספר הברכות ע/א כחול כיס', 'מודפס', 'מחיר מוצר', '80.10 ₪', 'מחיר רגיל', '89.00 ₪'], '73730': ['הכדור הכחול', 'ניר קפטן', 'דיגיטלי', 'מחיר מוצר', '25.00 ₪'], '71673': ['לכחול אין דרום', 'אלכס אפשטיין', 'דיגיטלי', 'מחיר מוצר', '30.00 ₪'], '70239': ['צלילה לחור הכחול', 'שלום אשבל', 'דיגיטלי', 'מחיר מוצר', '38.00 ₪'], '70129': ['יום שני כחול', 'ניקי פרנץ’', 'דיגיטלי', '28 ש\"ח', 'מחיר מוצר', '28.00 ₪', 'מחיר רגיל', '37.00 ₪'], '74921': ['שלישיית הכתר 2 דם כוכבים כחול', 'לאורה סבסטיאן', 'דיגיטלי', 'מחיר מוצר', '33.60 ₪', 'מחיר רגיל', '42.00 ₪', 'מודפס', 'מחיר מוצר', '78.40 ₪', 'מחיר רגיל', '98.00 ₪', 'מועדון: 73.50 ₪'], '75615': ['משחקת עם הלב 3 הצווארון הכחול 3', 'פייפר ריין', 'דיגיטלי', '28 ש\"ח', 'מחיר מוצר', '28.00 ₪', 'מחיר רגיל', '37.00 ₪'], '75498': ['החור הכחול', 'יהודה ג’ד דינר', 'מודפס', 'מחיר מוצר', '66.60 ₪', 'מחיר רגיל', '74.00 ₪'], '82142': ['המעניק 2 הכחול האבוד מהד’ חדשה', 'לויס לורי', 'מודפס', 'מחיר מוצר', '70.20 ₪', 'מחיר רגיל', '78.00 ₪'], '86406': ['ספר הברכה והקידוש לשבתות ולחגים כחול 2024 כולל הגדה של פסח', 'עורך ברהולץ עמיחי', 'מודפס', 'מחיר מוצר', '53.10 ₪', 'מחיר רגיל', '59.00 ₪'], '85052': ['המסכות המצחיקות שלי כחול', 'מודפס', 'מחיר מוצר', '18.00 ₪', 'מחיר רגיל', '20.00 ₪'], '84755': ['הבית הכחול', 'דנה חפץ', 'מודפס', 'מחיר מוצר', '71.10 ₪', 'מחיר רגיל', '79.00 ₪'], '83148': ['סיפורו של הכוכב הכחול', 'אנדרי סנייר מגנסון', 'דיגיטלי', 'מחיר מוצר', '44.00 ₪', 'מודפס', 'מחיר מוצר', '70.20 ₪', 'מחיר רגיל', '78.00 ₪'], '83081': ['משחקי בלוש 14 האור הכחול', 'מיכאל אבס', 'מודפס', 'מחיר מוצר', '62.40 ₪', 'מחיר רגיל', '78.00 ₪', 'מועדון: 58.50 ₪'], '82497': ['כחול 2 רב ממדי', 'דיוויד קרטר', 'מודפס', 'מחיר מוצר', '71.10 ₪', 'מחיר רגיל', '79.00 ₪'], '82483': ['שופהולית בחול', 'סופי קינסלה', 'דיגיטלי', 'מחיר מוצר', '44.00 ₪', 'מודפס', 'מחיר מוצר', '88.20 ₪', 'מחיר רגיל', '98.00 ₪'], '82350': ['אדום לבן וכחול מלכותי', 'קייסי מקוויסטון', 'מודפס', 'מחיר מוצר', '79.20 ₪', 'מחיר רגיל', '88.00 ₪'], '81758': ['מה נעשה עכשיו קנגורו כחול זנב', 'צ’יצ’סטר קלרק אמה', 'מודפס', 'מחיר מוצר', '50.40 ₪', 'מחיר רגיל', '56.00 ₪']}\n",
      "['שלישיית הכתר 2 דם כוכבים כחול', 'לאורה סבסטיאן', 'דיגיטלי', 'מחיר מוצר', '33.60 ₪', 'מחיר רגיל', '42.00 ₪', 'מודפס', 'מחיר מוצר', '78.40 ₪', 'מחיר רגיל', '98.00 ₪', 'מועדון: 73.50 ₪']\n"
     ]
    },
    {
     "data": {
      "text/plain": [
       "'for author in authors:\\n    print(author.text)'"
      ]
     },
     "execution_count": 21,
     "metadata": {},
     "output_type": "execute_result"
    }
   ],
   "source": [
    "def get_book_name(sku):\n",
    "    link = 'https://www.steimatzky.co.il/' + sku\n",
    "    name_element = driver.find_elements(By.XPATH, f'//a[@href=\"{link}\"]')\n",
    "    #print(len(name_element))\n",
    "    book_name = name_element[0].get_attribute('title')\n",
    "    return book_name\n",
    "driver = webdriver.Chrome()\n",
    "# סטימצקי\n",
    "bookname = input('Please enter books name:')\n",
    "driver.get(f'https://www.steimatzky.co.il/catalogsearch/result/?q={bookname}')\n",
    "books_id = driver.find_elements(By.XPATH, '//form[@class=\"start-product-item\"]')\n",
    "skus = driver.find_elements(By.XPATH, '//form[@class=\"start-product-item\"]')\n",
    "#authors = driver.find_elements(By.XPATH, '//div[@class=\"product-category-parse product-parse\"]')\n",
    "authors = driver.find_elements(By.XPATH, '//div[@class=\"product-wrapper\"]')\n",
    "books_dict = {}\n",
    "id_list = []\n",
    "for book_id in books_id:\n",
    "    theID = book_id.get_attribute('product_id')\n",
    "    #print(theID)\n",
    "    id_list.append(theID)\n",
    "    books_dict[theID] = ''\n",
    "looper = 0\n",
    "#print(books_dict)\n",
    "for author in authors:\n",
    "    #print(author.text)\n",
    "    book_clean = author.text.split('\\n')\n",
    "    books_dict[id_list[looper]] = book_clean#author.text\n",
    "    looper += 1\n",
    "print(books_dict)\n",
    "print(books_dict['74921'])\n",
    "    \n",
    "#authors = driver.find_element(By.TAG_NAME, 'a')\n",
    "#print(len(books))\n",
    "'''books_name = []\n",
    "for sku in skus:\n",
    "    #print(sku.get_attribute('data-product-sku'))\n",
    "    book_sku = sku.get_attribute('data-product-sku')\n",
    "    books_name.append(get_book_name(book_sku))\n",
    "for book_id in books_id:\n",
    "    print(book_id.get_attribute('product_id'))\n",
    "\n",
    "#books_name = driver.find_elements(By.XPATH, '//a[@href=\"https://www.steimatzky.co.il/011411684\"]')\n",
    "print(books_name)\n",
    "print(authors)'''\n",
    "'''for author in authors:\n",
    "    print(author.text)'''\n",
    "\n",
    "\n",
    "\n",
    "\n"
   ]
  },
  {
   "cell_type": "code",
   "execution_count": 24,
   "id": "85262985-8167-45e1-84f5-0d799c5f3a73",
   "metadata": {},
   "outputs": [
    {
     "name": "stdin",
     "output_type": "stream",
     "text": [
      "Please enter books name: בכחול\n"
     ]
    },
    {
     "name": "stdout",
     "output_type": "stream",
     "text": [
      "10\n",
      "שתי ילדות קטנות בכחול\n",
      "88 ₪ 66 ₪\n",
      "זהות בכחול לבן-מורשת לכתה ז&rsquo,\n",
      "66.28 ₪\n",
      "אזל\n",
      "עירום בכחול\n",
      "88 ₪ 70.4 ₪\n",
      "מעגלים בכחול / חנה כהן-פרז\n",
      "89 ₪ 75.65 ₪\n",
      "אזל\n",
      "הבתולה בכחול/טרייסי שבלייה\n",
      "84 ₪ 67.2 ₪\n",
      "נערה בכחול יקינטון / סוזן פרילנד\n",
      "25 ₪ 20 ₪\n",
      "אזל\n",
      "החברה 345 בכחול / רותק'ה נוי\n",
      "42 ₪\n",
      "מתנדבים בכחול / יוסף שביט\n",
      "85 ₪ 72.25 ₪\n",
      "צבע בכחול וזרוק לים / אייל עמית\n",
      "56 ₪ 47.6 ₪\n",
      "אזרח בכחול\n",
      "88 ₪\n",
      "Books from בוקמי \n",
      " None\n"
     ]
    }
   ],
   "source": [
    "def book_me(driver):\n",
    "    driver.get(f'https://www.bookme.co.il/%D7%97%D7%99%D7%A4%D7%95%D7%A9?q={bookname}')\n",
    "    elements = driver.find_elements(By.XPATH, '//div[@class=\"products col-xs-6 col-sm-4 col-md-3 col-lg-3 product-cube\"]')\n",
    "    print(len(elements))\n",
    "    for element in elements:\n",
    "        print(element.text)\n",
    "    \n",
    "    \n",
    "\n",
    "driver = webdriver.Chrome()\n",
    "# driver.get(f'https://www.bookme.co.il/%D7%97%D7%99%D7%A4%D7%95%D7%A9?q={bookname}')\n",
    "bookname = input('Please enter books name:')\n",
    "print('Books from בוקמי \\n', book_me(driver))"
   ]
  },
  {
   "cell_type": "code",
   "execution_count": null,
   "id": "e326849c-6b55-4e3a-9d26-dbc779d38b10",
   "metadata": {},
   "outputs": [],
   "source": []
  }
 ],
 "metadata": {
  "kernelspec": {
   "display_name": "Python 3 (ipykernel)",
   "language": "python",
   "name": "python3"
  },
  "language_info": {
   "codemirror_mode": {
    "name": "ipython",
    "version": 3
   },
   "file_extension": ".py",
   "mimetype": "text/x-python",
   "name": "python",
   "nbconvert_exporter": "python",
   "pygments_lexer": "ipython3",
   "version": "3.10.2"
  }
 },
 "nbformat": 4,
 "nbformat_minor": 5
}
