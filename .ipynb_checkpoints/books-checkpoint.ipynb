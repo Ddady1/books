{
 "cells": [
  {
   "cell_type": "code",
   "execution_count": 9,
   "id": "c1e40d7a-d1b1-4da7-becb-b6f2c7072eeb",
   "metadata": {
    "scrolled": true
   },
   "outputs": [
    {
     "name": "stdin",
     "output_type": "stream",
     "text": [
      "Please enter books name: מלחמה ושלום\n"
     ]
    },
    {
     "name": "stdout",
     "output_type": "stream",
     "text": [
      "178 ₪\n",
      "87 ₪\n",
      "168 ₪\n"
     ]
    }
   ],
   "source": [
    "from selenium import webdriver\n",
    "from selenium.webdriver.common.by import By\n",
    "\n",
    "driver = webdriver.Chrome()\n",
    "#driver.get('https://www.booknet.co.il/')\n",
    "bookname = input('Please enter books name:')\n",
    "\n",
    "# צומת ספרים\n",
    "driver.get(f'https://www.booknet.co.il/%D7%97%D7%99%D7%A4%D7%95%D7%A9?q={bookname}')\n",
    "\n",
    "# סטימצקי\n",
    "#driver.get(f'https://www.steimatzky.co.il/catalogsearch/result/?q={bookname}')\n",
    "\n",
    "# בוקמי\n",
    "#driver.get(f'https://www.bookme.co.il/%D7%97%D7%99%D7%A4%D7%95%D7%A9?q={bookname}')\n",
    "\n",
    "# עברית\n",
    "#driver.get(f'https://www.e-vrit.co.il/Search/{bookname}')\n",
    "\n",
    "price = driver.find_element(By.TAG_NAME, 'ins').text\n",
    "prices = driver.find_elements(By.TAG_NAME, 'ins')\n",
    "ext = driver.find_elements(By.XPATH, '//span[@class=\"cbar_sale_price\"]')\n",
    "price\n",
    "for item in prices:\n",
    "    print(item.text)\n",
    "#ext[0].text"
   ]
  },
  {
   "cell_type": "code",
   "execution_count": null,
   "id": "509b76b7-8542-439c-b76e-7aba83840baa",
   "metadata": {},
   "outputs": [],
   "source": []
  }
 ],
 "metadata": {
  "kernelspec": {
   "display_name": "Python 3 (ipykernel)",
   "language": "python",
   "name": "python3"
  },
  "language_info": {
   "codemirror_mode": {
    "name": "ipython",
    "version": 3
   },
   "file_extension": ".py",
   "mimetype": "text/x-python",
   "name": "python",
   "nbconvert_exporter": "python",
   "pygments_lexer": "ipython3",
   "version": "3.10.2"
  }
 },
 "nbformat": 4,
 "nbformat_minor": 5
}
