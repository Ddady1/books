{
 "cells": [
  {
   "cell_type": "code",
   "execution_count": null,
   "id": "509b76b7-8542-439c-b76e-7aba83840baa",
   "metadata": {},
   "outputs": [],
   "source": []
  },
  {
   "cell_type": "code",
   "execution_count": 8,
   "id": "104a3648-7b26-465e-bf45-b5680da3a7f1",
   "metadata": {},
   "outputs": [
    {
     "name": "stdin",
     "output_type": "stream",
     "text": [
      "Please enter books name: בכחול\n"
     ]
    },
    {
     "data": {
      "text/plain": [
       "['אזרח בכחול', 'פרשים בכחול לבן', 'שתי ילדות קטנות בכחול', 'אזרח בכחול']"
      ]
     },
     "execution_count": 8,
     "metadata": {},
     "output_type": "execute_result"
    }
   ],
   "source": [
    "from selenium import webdriver\n",
    "from selenium.webdriver.common.by import By\n",
    "\n",
    "driver = webdriver.Chrome()\n",
    "#driver.get('https://www.booknet.co.il/')\n",
    "bookname = input('Please enter books name:')\n",
    "\n",
    "# צומת ספרים\n",
    "driver.get(f'https://www.booknet.co.il/%D7%97%D7%99%D7%A4%D7%95%D7%A9?q={bookname}')\n",
    "\n",
    "# סטימצקי\n",
    "#driver.get(f'https://www.steimatzky.co.il/catalogsearch/result/?q={bookname}')\n",
    "\n",
    "# בוקמי\n",
    "#driver.get(f'https://www.bookme.co.il/%D7%97%D7%99%D7%A4%D7%95%D7%A9?q={bookname}')\n",
    "\n",
    "# עברית\n",
    "#driver.get(f'https://www.e-vrit.co.il/Search/{bookname}')\n",
    "\n",
    "price = driver.find_element(By.TAG_NAME, 'ins').text\n",
    "prices = driver.find_elements(By.TAG_NAME, 'ins')\n",
    "#books = driver.find_elements(By.XPATH, '//span[@class=\"sr-only\"]')\n",
    "books = driver.find_elements(By.XPATH, '//div[@class=\"products product-cube col-md-2\"]')\n",
    "'''for book in books:\n",
    "    book_str = (book.text)\n",
    "    print(book_str)'''\n",
    "books_dict = {}\n",
    "for book in books:\n",
    "    #print(item.text)\n",
    "    book_details = []\n",
    "    bookid = item.get_attribute(\"data-prodid\")\n",
    "    book_name = item.get_attribute(\"data-fullname\")\n",
    "    book_publish = item.get_attribute(\"data-manufacturer\")\n",
    "    book_author = \n",
    "    \n",
    "\n",
    "ls\n",
    "#bookid[0].text\n",
    "#print(ext[1])\n",
    "#print(len(ext))"
   ]
  },
  {
   "cell_type": "code",
   "execution_count": null,
   "id": "12ab5710-ae56-47db-943a-839a6525ce82",
   "metadata": {},
   "outputs": [],
   "source": []
  }
 ],
 "metadata": {
  "kernelspec": {
   "display_name": "Python 3 (ipykernel)",
   "language": "python",
   "name": "python3"
  },
  "language_info": {
   "codemirror_mode": {
    "name": "ipython",
    "version": 3
   },
   "file_extension": ".py",
   "mimetype": "text/x-python",
   "name": "python",
   "nbconvert_exporter": "python",
   "pygments_lexer": "ipython3",
   "version": "3.10.2"
  }
 },
 "nbformat": 4,
 "nbformat_minor": 5
}
