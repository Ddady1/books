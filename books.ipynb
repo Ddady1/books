{
 "cells": [
  {
   "cell_type": "code",
   "execution_count": 1,
   "id": "aec4423c-0085-42a7-aa72-fdf3ca162dd1",
   "metadata": {},
   "outputs": [],
   "source": [
    "from selenium import webdriver\n",
    "from selenium.webdriver.common.by import By"
   ]
  },
  {
   "cell_type": "code",
   "execution_count": 5,
   "id": "104a3648-7b26-465e-bf45-b5680da3a7f1",
   "metadata": {},
   "outputs": [
    {
     "name": "stdin",
     "output_type": "stream",
     "text": [
      "Please enter books name: בכחול\n"
     ]
    },
    {
     "name": "stdout",
     "output_type": "stream",
     "text": [
      "Books from צומת ספרים \n",
      " {'225460': ['88 ₪', 'ניסן בראונשטיין-בר', 'https://www.booknet.co.il/Images/Site/Products/org/57500007275.jpg', 'אזרח בכחול', 'אוריון'], '88715': ['149 ₪', 'שלו משה', 'https://www.booknet.co.il/Images/Site/Products/9600042687.jpg', 'פרשים בכחול לבן', 'בית עלים'], '140815': ['88 ₪', 'קלארק מרי היגינס', 'https://www.booknet.co.il/Images/Site/Products/3900065612.jpg', 'שתי ילדות קטנות בכחול', 'אור-עם'], '231061': ['78 ₪', 'בראונשטיין ניסן בר', 'https://www.booknet.co.il/images/site/book.jpg', 'אזרח בכחול', 'גוונים/טרקלין/חלונות']}\n"
     ]
    }
   ],
   "source": [
    "\n",
    "\n",
    "def tzomet(driver):\n",
    "    # צומת ספרים\n",
    "    driver.get(f'https://www.booknet.co.il/%D7%97%D7%99%D7%A4%D7%95%D7%A9?q={bookname}')\n",
    "    prices = driver.find_elements(By.TAG_NAME, 'ins')\n",
    "    books = driver.find_elements(By.XPATH, '//div[@class=\"products product-cube col-md-2\"]')\n",
    "    authors = driver.find_elements(By.XPATH, '//a[@class=\"book-below-title product-author\"]')\n",
    "    images = driver.find_elements(By.XPATH, '//img[@class=\"img-responsive img-lazy-load\"]')\n",
    "    books_image = []\n",
    "    for image in images:\n",
    "        books_image.append(image.get_attribute(\"src\"))\n",
    "\n",
    "    books_dict = {}\n",
    "    looper = 0\n",
    "    for book in books:\n",
    "        # print(item.text)\n",
    "        book_details = []\n",
    "        bookid = book.get_attribute(\"data-prodid\")\n",
    "        book_name = book.get_attribute(\"data-fullname\")\n",
    "        book_publish = book.get_attribute(\"data-manufacturer\")\n",
    "        book_details.append(prices[looper].text)\n",
    "        book_details.append(authors[looper].text)\n",
    "        book_details.append(books_image[looper])\n",
    "        looper += 1\n",
    "        book_details.append(book_name)\n",
    "        book_details.append(book_publish)\n",
    "        books_dict[bookid] = book_details\n",
    "        # print(book_details)\n",
    "\n",
    "    return books_dict\n",
    "\n",
    "\n",
    "driver = webdriver.Chrome()\n",
    "# driver.get('https://www.booknet.co.il/')\n",
    "bookname = input('Please enter books name:')\n",
    "\n",
    "\n",
    "print('Books from צומת ספרים \\n', tzomet(driver))\n",
    "\n",
    "\n",
    "\n",
    "\n",
    "\n",
    "# בוקמי\n",
    "# driver.get(f'https://www.bookme.co.il/%D7%97%D7%99%D7%A4%D7%95%D7%A9?q={bookname}')\n",
    "\n",
    "# עברית\n",
    "# driver.get(f'https://www.e-vrit.co.il/Search/{bookname}')\n"
   ]
  },
  {
   "cell_type": "code",
   "execution_count": 27,
   "id": "12ab5710-ae56-47db-943a-839a6525ce82",
   "metadata": {},
   "outputs": [
    {
     "name": "stdin",
     "output_type": "stream",
     "text": [
      "Please enter books name: בכחול\n"
     ]
    },
    {
     "name": "stdout",
     "output_type": "stream",
     "text": [
      "83858\n",
      "55905\n",
      "24226\n",
      "73730\n",
      "71673\n",
      "70239\n",
      "71201\n",
      "70129\n",
      "74921\n",
      "75615\n",
      "75498\n",
      "82142\n",
      "86406\n",
      "85052\n",
      "84755\n",
      "83148\n",
      "83081\n",
      "82918\n",
      "82497\n",
      "82350\n",
      "['עירום בכחול', 'אזרח בכחול', 'ספר הברכות ע/א כחול כיס', 'הכדור הכחול', 'לכחול אין דרום', 'צלילה לחור הכחול', 'סיפורים מווינדידסט 3 פטריית האמניטה הכחולה', 'יום שני כחול', 'שלישיית הכתר 2 דם כוכבים כחול', 'משחקת עם הלב 3 הצווארון הכחול 3', 'החור הכחול', 'המעניק 2 הכחול האבוד מהד’ חדשה', 'ספר הברכה והקידוש לשבתות ולחגים  כחול 2024 כולל הגדה של פסח', 'המסכות המצחיקות שלי כחול', 'הבית הכחול', 'סיפורו של הכוכב הכחול', 'משחקי בלוש 14 האור הכחול', 'הרפתקאותיו של אג 3 ים כחול בוער', 'כחול 2 רב ממדי', 'אדום  לבן וכחול מלכותי']\n",
      "יהודה ג’ד דינר\n"
     ]
    },
    {
     "data": {
      "text/plain": [
       "'for author in authors:\\n    print(author.text)'"
      ]
     },
     "execution_count": 27,
     "metadata": {},
     "output_type": "execute_result"
    }
   ],
   "source": [
    "def get_book_name(sku):\n",
    "    link = 'https://www.steimatzky.co.il/' + sku\n",
    "    name_element = driver.find_elements(By.XPATH, f'//a[@href=\"{link}\"]')\n",
    "    #print(len(name_element))\n",
    "    book_name = name_element[0].get_attribute('title')\n",
    "    return book_name\n",
    "driver = webdriver.Chrome()\n",
    "# סטימצקי\n",
    "bookname = input('Please enter books name:')\n",
    "driver.get(f'https://www.steimatzky.co.il/catalogsearch/result/?q={bookname}')\n",
    "books_id = driver.find_elements(By.XPATH, '//form[@class=\"start-product-item\"]')\n",
    "skus = driver.find_elements(By.XPATH, '//form[@class=\"start-product-item\"]')\n",
    "authors = driver.find_elements(By.XPATH, '//div[@class=\"product-category-parse product-parse\"]')\n",
    "#authors = driver.find_element(By.TAG_NAME, 'a')\n",
    "#print(len(books))\n",
    "books_name = []\n",
    "for sku in skus:\n",
    "    #print(sku.get_attribute('data-product-sku'))\n",
    "    book_sku = sku.get_attribute('data-product-sku')\n",
    "    books_name.append(get_book_name(book_sku))\n",
    "for book_id in books_id:\n",
    "    print(book_id.get_attribute('product_id'))\n",
    "\n",
    "#books_name = driver.find_elements(By.XPATH, '//a[@href=\"https://www.steimatzky.co.il/011411684\"]')\n",
    "print(books_name)\n",
    "print(authors)\n",
    "'''for author in authors:\n",
    "    print(author.text)'''\n",
    "\n",
    "\n",
    "\n",
    "\n"
   ]
  },
  {
   "cell_type": "code",
   "execution_count": null,
   "id": "85262985-8167-45e1-84f5-0d799c5f3a73",
   "metadata": {},
   "outputs": [],
   "source": []
  }
 ],
 "metadata": {
  "kernelspec": {
   "display_name": "Python 3 (ipykernel)",
   "language": "python",
   "name": "python3"
  },
  "language_info": {
   "codemirror_mode": {
    "name": "ipython",
    "version": 3
   },
   "file_extension": ".py",
   "mimetype": "text/x-python",
   "name": "python",
   "nbconvert_exporter": "python",
   "pygments_lexer": "ipython3",
   "version": "3.10.2"
  }
 },
 "nbformat": 4,
 "nbformat_minor": 5
}
